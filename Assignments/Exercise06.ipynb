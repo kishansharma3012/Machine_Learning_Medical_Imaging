{
 "cells": [
  {
   "cell_type": "markdown",
   "metadata": {},
   "source": [
    "# Exercise 06 - CNNs for Handwritten Digits Recognition (\"MNIST\")"
   ]
  },
  {
   "cell_type": "markdown",
   "metadata": {},
   "source": [
    "# Imports"
   ]
  },
  {
   "cell_type": "code",
   "execution_count": 1,
   "metadata": {
    "collapsed": true
   },
   "outputs": [],
   "source": [
    "import tensorflow as tf\n",
    "import numpy as np\n",
    "import random\n",
    "import time\n",
    "import matplotlib.pyplot as plt\n",
    "from IPython import display"
   ]
  },
  {
   "cell_type": "code",
   "execution_count": 2,
   "metadata": {
    "collapsed": true
   },
   "outputs": [],
   "source": [
    "# This line configures matplotlib to show figures embedded in the notebook, \n",
    "# instead of opening a new window for each figure. More about that later. \n",
    "# If you are using an old version of IPython, try using '%pylab inline' instead.\n",
    "%matplotlib inline"
   ]
  },
  {
   "cell_type": "markdown",
   "metadata": {},
   "source": [
    "# Group A\n",
    "In this exercise, you are asked to implement the so called LeNet-5 architecture, the first groundbreaking CNN architecture invented by Yan LeCun et al. [1], published in 1998. Implement the architecture in the method \"LeNet\" defined below. The function expects an input tensor and should output two things: The logits, and the softmax-activation of the logits. The entire code for training a CNN with tensorflow is provided, you simply have to plug in the \"LeNet\"-function at the right place in the code below, which is already done for you.\n",
    "\n",
    "Train a model using the provided training script and be prepared to interpret the training progress and results. A working set of default hyperparameters is already provided. \n",
    "\n",
    "[1] LeCun, Yann, et al. \"Gradient-based learning applied to document recognition.\" Proceedings of the IEEE 86.11 (1998): 2278-2324."
   ]
  },
  {
   "cell_type": "markdown",
   "metadata": {},
   "source": [
    "# LeNet Architecture\n",
    "![LeNet Architecture](data/lenet.png)\n",
    "Source: Yan LeCun"
   ]
  },
  {
   "cell_type": "code",
   "execution_count": 23,
   "metadata": {
    "collapsed": true
   },
   "outputs": [],
   "source": [
    "def LeNet(tensor):\n",
    "    # TODO\n",
    "\n",
    "    return logits, tf.nn.softmax(logits)"
   ]
  },
  {
   "cell_type": "markdown",
   "metadata": {},
   "source": [
    "# Group B\n",
    "In this exercise, you are asked to implement a modified version of the so called AlexNet architecture, proposed by Alex Krizhevsky et al. in [2] for ImageNet. By default, it was intended to operate on 224x224x3px sized images from the ImageNet challenge. Implement the architecture in the method \"AlexNet\" defined below such that it can accept 28x28px sized input and output a 10-element vector with class probabilities (you have some creative freedom here). Therefore, leave out the first block consisting of convolution, local response normalization and max-pooling (refer to the paper or online resources for more details on the architecture). For the fully connected layers, use two consecutive layers with 120 and 84 neurons each instead of 4096 (as seen in LeNet in Exercise for Group A). The function expects an input tensor and should output two things: The logits, and the softmax-activation of the logits. The entire code for training a CNN with tensorflow is provided, you simply have to plug in the \"AlexNet\"-function at the right place in the code below (substitute the call of the LeNet-function with AlexNet).\n",
    "\n",
    "Be prepared to answer the following questions: \n",
    "* How does FC8 have to be modified such that it works for MNIST?\n",
    "* How does Layer Response Normalization work?\n",
    "* If you don't have a GPU: does it train on your CPU? How many parameters does it have compared to LeNet (estimate)?\n",
    "\n",
    "[2] Krizhevsky, Alex, Ilya Sutskever, and Geoffrey E. Hinton. \"Imagenet classification with deep convolutional neural networks.\" Advances in neural information processing systems. 2012.\n",
    "\n",
    "![AlexNet architecture](data/alexnet.png)\n",
    "Source: https://www.saagie.com/blog/object-detection-part1"
   ]
  },
  {
   "cell_type": "code",
   "execution_count": 4,
   "metadata": {
    "collapsed": true
   },
   "outputs": [],
   "source": [
    "def AlexNet(tensor):    \n",
    "    #TODO\n",
    "    \n",
    "    return logits, tf.nn.softmax(logits)"
   ]
  },
  {
   "cell_type": "markdown",
   "metadata": {},
   "source": [
    "# Group C\n",
    "In this exercise, you are asked to implement a modified version of the so called VGG-16 network architecture, originally proposed by Simonyan et al. [3] in 2014 for classifying 224x224x3 sized images into 1000 classes on behalf of the ImageNet challenge. The architecture by default is too deep for MNIST. Be creative and implement a shallower variant of the architecture in the method \"VGGNet\" defined below such that it can accept 28x28px sized input and outputs a 10-element vector with class probabilities (Hint: you can for instance leave out columns 5-10 in the table describing the architecture, and use half the number of filters). Make sure you do not change the convolution kernel size of 3x3 which is very characteristic for VGG. For the fully connected layers, use two consecutive layers with 120 and 84 neurons each instead of 4096 (as seen in LeNet in Exercise for Group A). The function expects an input tensor and should output two things: The logits, and the softmax-activation of the logits. The entire code for training a CNN with tensorflow is provided, you simply have to plug in the \"VGGNet\"-function at the right place in the code below (substitute the call of the LeNet-function with VGGNet).\n",
    "\n",
    "Be prepared to answer the following questions (It is recommended to refer to the paper for more details):\n",
    "- What is it that makes the VGG-Net architecture so special?\n",
    "- Does it make sense to make VGG-Net so shallow for MNIST?\n",
    "\n",
    "[3] Simonyan, Karen, and Andrew Zisserman. \"Very deep convolutional networks for large-scale image recognition.\" arXiv preprint arXiv:1409.1556 (2014).\n",
    "\n",
    "![VGG16 architecture](data/vgg16.png)\n",
    "Source: http://mmlab.ie.cuhk.edu.hk/projects/PCN.html"
   ]
  },
  {
   "cell_type": "code",
   "execution_count": 3,
   "metadata": {
    "collapsed": true
   },
   "outputs": [],
   "source": [
    "def VGGNet(tensor):\n",
    "    #TODO\n",
    "    # block 1\n",
    "    # 64*3*3*2\n",
    "    conv1 = tf.layers.conv2d( inputs=tensor, filters=64, kernel_size=[3, 3], padding=\"same\", \n",
    "                             activation=tf.nn.relu) \n",
    "    conv2 = tf.layers.conv2d( inputs=conv1, filters=64, kernel_size=[3, 3], padding=\"same\", \n",
    "                             activation=tf.nn.relu)\n",
    "    # block 2 \n",
    "    max_pool3 = tf.layers.max_pooling2d( inputs = conv2, pool_size = (2,2),strides = (2,2),  padding = \"same\")\n",
    "    \n",
    "    # block 3\n",
    "    # 128*3*3*2\n",
    "    conv4 = tf.layers.conv2d( inputs=max_pool3, filters=128, kernel_size=[3, 3], padding=\"same\", \n",
    "                             activation=tf.nn.relu)\n",
    "    conv5 = tf.layers.conv2d( inputs=conv4, filters=128, kernel_size=[3, 3], padding=\"same\", \n",
    "                             activation=tf.nn.relu)\n",
    "    \n",
    "    #block 4\n",
    "    max_pool6 = tf.layers.max_pooling2d( inputs = conv5, pool_size = (2,2),strides = (2,2),  padding = \"same\")\n",
    "    \n",
    "    #block 5\n",
    "    # 256*3*3\n",
    "    conv7 = tf.layers.conv2d( inputs=max_pool6, filters=256, kernel_size=[3, 3], padding=\"same\", \n",
    "                             activation=tf.nn.relu)\n",
    "    #block 6\n",
    "    max_pool8 = tf.layers.max_pooling2d( inputs = conv7, pool_size = (2,2),strides = (2,2),  padding = \"same\")\n",
    "    \n",
    "    #block7\n",
    "    # 512*3*3\n",
    "    conv9 = tf.layers.conv2d( inputs=max_pool8, filters=512, kernel_size=[3, 3], padding=\"same\", \n",
    "                             activation=tf.nn.relu)\n",
    "    max_pool10 = tf.layers.max_pooling2d( inputs = conv9, pool_size = (2,2),strides = (2,2),  padding = \"same\")\n",
    "    #block 8 \n",
    "    flat = tf.contrib.layers.flatten(max_pool10)\n",
    "    fc10 = tf.layers.dense(inputs = flat, units= 50 , activation= tf.nn.relu)\n",
    "    \n",
    "    #block 9\n",
    "    logits = tf.layers.dense(inputs = fc10,units= 10 , activation= None)\n",
    "    \n",
    "    return logits, tf.nn.softmax(logits)"
   ]
  },
  {
   "cell_type": "markdown",
   "metadata": {},
   "source": [
    "# Group D\n",
    "In this exercise, you are asked to implement a ResNet-like architecture, as proposed by He et al. [4] in 2016, originally proposed for the ImageNet challenge. Implement the architecture described below in the method \"ResNet\" such that it can accept 28x28px sized input and output a 10-element vector with class probabilities. Use only 2 consecutive residual blocks before ending in the fully connected layers. For the fully connected layers, use two consecutive layers with 120 and 84 neurons each (as seen in LeNet in Exercise for Group A). The function expects an input tensor and should output two things: The logits, and the sigmoid-activation of the logits. The entire code for training a CNN with tensorflow is provided, you simply have to plug in the \"ResNet\"-function at the right place in the code below (substitute the LeNet-function with the ResNet-function).\n",
    "\n",
    "Be prepared to explain the concept of residual blocks!\n",
    "\n",
    "Architecture: \n",
    "* Residual Block of Depth 1 with 32 Filters, 3x3 Kernels and ReLu activations\n",
    "* MaxPooling with Kernelsize 2x2 and stride 2\n",
    "* Residual Block of Depth 1 with 64 Filters, 3x3 Kernels and ReLu activations\n",
    "* MaxPooling with Kernelsize 2x2 and stride 2\n",
    "* Fully connected layer with 120 Neurons\n",
    "* ReLu Activation\n",
    "* Fully connected layer with 84 Neurons\n",
    "* ReLu Activation\n",
    "* Output Fully connected layer\n",
    "\n",
    "Below is a depiction of a residual block:\n",
    "![VGG16 architecture](data/residualblock.png)\n",
    "\n",
    "[4] He, Kaiming, et al. \"Deep residual learning for image recognition.\" Proceedings of the IEEE conference on computer vision and pattern recognition. 2016."
   ]
  },
  {
   "cell_type": "code",
   "execution_count": 6,
   "metadata": {
    "collapsed": true
   },
   "outputs": [],
   "source": [
    "def ResNet(tensor):\n",
    "    #TODO\n",
    "    \n",
    "    return logits, tf.nn.softmax(logits)"
   ]
  },
  {
   "cell_type": "markdown",
   "metadata": {},
   "source": [
    "# CNN Training code starts here ;)"
   ]
  },
  {
   "cell_type": "code",
   "execution_count": 4,
   "metadata": {
    "collapsed": true
   },
   "outputs": [],
   "source": [
    "def visualizeCurves(curves, handle=None):\n",
    "    if not handle:\n",
    "        handle = plt.figure()\n",
    "\n",
    "    fig = plt.figure(handle.number)\n",
    "    fig.clear()\n",
    "    ax = plt.axes()\n",
    "    plt.cla()\n",
    "\n",
    "    counter = len(curves[list(curves.keys())[0]])\n",
    "    x = np.linspace(0, counter, num=counter)\n",
    "    for key, value in curves.items():\n",
    "        value_ = np.array(value).astype(np.double)\n",
    "        mask = np.isfinite(value_)\n",
    "        ax.plot(x[mask], value_[mask], label=key)\n",
    "    plt.legend(loc='upper right')\n",
    "    plt.title(\"Curves\")\n",
    "    plt.xlabel(\"Epochs\")\n",
    "    plt.ylabel(\"Value\")\n",
    "    display.clear_output(wait=True)\n",
    "    plt.show()\n",
    "    \n",
    "def printNumberOfTrainableParams():\n",
    "    total_parameters = 0\n",
    "    variables = tf.get_collection(tf.GraphKeys.TRAINABLE_VARIABLES)\n",
    "    for variable in variables:\n",
    "        # shape is an array of tf.Dimension\n",
    "        shape = variable.get_shape()\n",
    "        print(shape)\n",
    "        # print(len(shape))\n",
    "        variable_parametes = 1\n",
    "        for dim in shape:\n",
    "            #    print(dim)\n",
    "            variable_parametes *= dim.value\n",
    "        # print(variable_parametes)\n",
    "        total_parameters += variable_parametes\n",
    "    print(total_parameters)"
   ]
  },
  {
   "cell_type": "code",
   "execution_count": 5,
   "metadata": {
    "collapsed": true
   },
   "outputs": [],
   "source": [
    "# Config\n",
    "config = {}\n",
    "config['batchsize'] = 128\n",
    "config['learningrate'] = 0.01\n",
    "config['numEpochs'] = 10"
   ]
  },
  {
   "cell_type": "code",
   "execution_count": 6,
   "metadata": {},
   "outputs": [
    {
     "name": "stdout",
     "output_type": "stream",
     "text": [
      "Successfully downloaded train-images-idx3-ubyte.gz 9912422 bytes.\n",
      "Extracting MNIST_data/train-images-idx3-ubyte.gz\n",
      "Successfully downloaded train-labels-idx1-ubyte.gz 28881 bytes.\n",
      "Extracting MNIST_data/train-labels-idx1-ubyte.gz\n",
      "Successfully downloaded t10k-images-idx3-ubyte.gz 1648877 bytes.\n",
      "Extracting MNIST_data/t10k-images-idx3-ubyte.gz\n",
      "Successfully downloaded t10k-labels-idx1-ubyte.gz 4542 bytes.\n",
      "Extracting MNIST_data/t10k-labels-idx1-ubyte.gz\n",
      "Image Shape: (784,)\n",
      "()\n",
      "Training Set:   55000 samples\n",
      "Validation Set: 5000 samples\n",
      "Test Set:       10000 samples\n"
     ]
    }
   ],
   "source": [
    "# Download and read in MNIST automatically\n",
    "from tensorflow.examples.tutorials.mnist import input_data\n",
    "mnist = input_data.read_data_sets(\"MNIST_data/\", one_hot=True)\n",
    "\n",
    "print(\"Image Shape: {}\".format(mnist.train.images[0].shape))\n",
    "print()\n",
    "print(\"Training Set:   {} samples\".format(len(mnist.train.images)))\n",
    "print(\"Validation Set: {} samples\".format(len(mnist.validation.images)))\n",
    "print(\"Test Set:       {} samples\".format(len(mnist.test.images)))"
   ]
  },
  {
   "cell_type": "code",
   "execution_count": 7,
   "metadata": {
    "scrolled": true
   },
   "outputs": [
    {
     "data": {
      "text/plain": [
       "<matplotlib.image.AxesImage at 0x7f048ed2ce10>"
      ]
     },
     "execution_count": 7,
     "metadata": {},
     "output_type": "execute_result"
    },
    {
     "data": {
      "image/png": "[encoded data removed]",
      "text/plain": [
       "<matplotlib.figure.Figure at 0x7f04e8617810>"
      ]
     },
     "metadata": {},
     "output_type": "display_data"
    }
   ],
   "source": [
    "# Visualize a sample from MNIST\n",
    "index = random.randint(0, len(mnist.train.images))\n",
    "image = mnist.train.images[index].reshape((28, 28))\n",
    "\n",
    "plt.figure(figsize=(1,1))\n",
    "plt.imshow(image, cmap=\"gray\")\n"
   ]
  },
  {
   "cell_type": "code",
   "execution_count": 8,
   "metadata": {},
   "outputs": [
    {
     "name": "stdout",
     "output_type": "stream",
     "text": [
      "(3, 3, 1, 64)\n",
      "(64,)\n",
      "(3, 3, 64, 64)\n",
      "(64,)\n",
      "(3, 3, 64, 128)\n",
      "(128,)\n",
      "(3, 3, 128, 128)\n",
      "(128,)\n",
      "(3, 3, 128, 256)\n",
      "(256,)\n",
      "(3, 3, 256, 512)\n",
      "(512,)\n",
      "(2048, 50)\n",
      "(50,)\n",
      "(50, 10)\n",
      "(10,)\n",
      "1837296\n"
     ]
    }
   ],
   "source": [
    "# Clear Graph\n",
    "tf.reset_default_graph()\n",
    "\n",
    "# Define placeholders\n",
    "inputs = {}\n",
    "inputs['data'] = tf.placeholder(tf.float32, [None, 32, 32, 1])\n",
    "inputs['labels'] = tf.placeholder(tf.float32, [None, 10])\n",
    "inputs['phase'] = tf.placeholder(tf.bool)\n",
    "\n",
    "# Define a dictionary for storing curves\n",
    "curves = {}\n",
    "curves['training'] = []\n",
    "curves['validation'] = []\n",
    "\n",
    "# Instantiate the model operations\n",
    "logits, probabilities = VGGNet(inputs['data']) # Or VGGNet or ResNet or AlexNet\n",
    "printNumberOfTrainableParams()\n",
    "\n",
    "# Define loss function in a numerically stable way\n",
    "# DONT: cross_entropy = tf.reduce_mean(-tf.reduce_sum( * tf.log(y), reduction_indices=[1]))\n",
    "cross_entropy = tf.reduce_mean(tf.nn.softmax_cross_entropy_with_logits(logits = logits, labels = inputs['labels']))\n",
    "\n",
    "# Operations for assessing the accuracy of the classifier\n",
    "correct_prediction = tf.equal(tf.argmax(probabilities,1), tf.argmax(inputs['labels'],1))\n",
    "accuracy_operation = tf.cast(correct_prediction, tf.float32)\n",
    "\n",
    "# Idea: Use different optimizers?\n",
    "# SGD vs ADAM\n",
    "#train_step = tf.train.AdamOptimizer(config['learningrate']).minimize(cross_entropy)\n",
    "train_step = tf.train.GradientDescentOptimizer(config['learningrate']).minimize(cross_entropy)"
   ]
  },
  {
   "cell_type": "code",
   "execution_count": 9,
   "metadata": {
    "collapsed": true
   },
   "outputs": [],
   "source": [
    "# Create TensorFlow Session and initialize all weights\n",
    "sess = tf.InteractiveSession()\n",
    "tf.global_variables_initializer().run()"
   ]
  },
  {
   "cell_type": "code",
   "execution_count": 10,
   "metadata": {},
   "outputs": [
    {
     "data": {
      "image/png": "[encoded data removed]",
      "text/plain": [
       "<matplotlib.figure.Figure at 0x7f048a8e8ad0>"
      ]
     },
     "metadata": {},
     "output_type": "display_data"
    }
   ],
   "source": [
    "# Run!\n",
    "numTrainSamples = len(mnist.train.images)\n",
    "numValSamples = len(mnist.validation.images)\n",
    "numTestSamples = len(mnist.test.images)\n",
    "for e in range(config['numEpochs']):\n",
    "    avg_loss_in_current_epoch = 0\n",
    "    for i in range(0, numTrainSamples, config['batchsize']):\n",
    "        batch_data, batch_labels = mnist.train.next_batch(config['batchsize'])\n",
    "        batch_data = batch_data.reshape((batch_data.shape[0], 28, 28, 1))\n",
    "        \n",
    "        batch_data = np.pad(batch_data, ((0,0),(2,2),(2,2),(0,0)), 'constant')\n",
    "    \n",
    "        fetches = {\n",
    "            'optimizer': train_step,\n",
    "            'loss': cross_entropy\n",
    "        }\n",
    "        results = sess.run(fetches, feed_dict={inputs['data']: batch_data, inputs['labels']: batch_labels})\n",
    "        if((i/128)% 20 == 0):\n",
    "            print(\"Training  |  epoch : %d  | Iter : %d   | loss : %0.4f \" %(e, i/128,results['loss']))\n",
    "        avg_loss_in_current_epoch += results['loss']\n",
    "    avg_loss_in_current_epoch = avg_loss_in_current_epoch / i\n",
    "    curves['training'] += [avg_loss_in_current_epoch]\n",
    "        \n",
    "    for i in range(0, numValSamples, config['batchsize']):\n",
    "        # Use Matplotlib to visualize the loss on the training and validation set\n",
    "        batch_data, batch_labels = mnist.validation.next_batch(config['batchsize'])\n",
    "        batch_data = batch_data.reshape((batch_data.shape[0], 28, 28, 1))\n",
    "        \n",
    "        # TODO: Preprocess the images in the batch\n",
    "        batch_data = np.pad(batch_data, ((0,0),(2,2),(2,2),(0,0)), 'constant')\n",
    "        \n",
    "        fetches = {\n",
    "            'loss': cross_entropy\n",
    "        }\n",
    "        results = sess.run(fetches, feed_dict={inputs['data']: batch_data, inputs['labels']: batch_labels})\n",
    "        print(\"Validation  |  epoch : %d  | Iter : %d   | loss : %0.4f \" %(e, i/128,results['loss']))\n",
    "\n",
    "        avg_loss_in_current_epoch += results['loss']\n",
    "    avg_loss_in_current_epoch = avg_loss_in_current_epoch / i\n",
    "    curves['validation'] += [avg_loss_in_current_epoch]\n",
    "    \n",
    "    print('Done with epoch %d' % (e))\n",
    "    visualizeCurves(curves)"
   ]
  },
  {
   "cell_type": "code",
   "execution_count": 11,
   "metadata": {},
   "outputs": [
    {
     "name": "stdout",
     "output_type": "stream",
     "text": [
      "0.985547\n"
     ]
    }
   ],
   "source": [
    "# Test\n",
    "accumulated_predictions = np.array([])\n",
    "for i in range(0, numValSamples, config['batchsize']):\n",
    "    # Use Matplotlib to visualize the loss on the training and validation set\n",
    "    batch_data, batch_labels = mnist.test.next_batch(config['batchsize'])\n",
    "    batch_data = batch_data.reshape((batch_data.shape[0], 28, 28, 1))\n",
    "        \n",
    "    # TODO: Preprocess the images in the batch\n",
    "    batch_data = np.pad(batch_data, ((0,0),(2,2),(2,2),(0,0)), 'constant')\n",
    "    fetches = {\n",
    "        'accuracy': accuracy_operation\n",
    "    }\n",
    "    results = sess.run(fetches, feed_dict={inputs['data']: batch_data, inputs['labels']: batch_labels})\n",
    "    \n",
    "    if i==0:\n",
    "        accumulated_predictions = results['accuracy']\n",
    "    else:\n",
    "        accumulated_predictions = np.append(accumulated_predictions, results['accuracy'])\n",
    "accuracy = np.mean(accumulated_predictions)\n",
    "print(accuracy)"
   ]
  },
  {
   "cell_type": "code",
   "execution_count": null,
   "metadata": {
    "collapsed": true
   },
   "outputs": [],
   "source": []
  }
 ],
 "metadata": {
  "kernelspec": {
   "display_name": "Python 2",
   "language": "python",
   "name": "python2"
  },
  "language_info": {
   "codemirror_mode": {
    "name": "ipython",
    "version": 2
   },
   "file_extension": ".py",
   "mimetype": "text/x-python",
   "name": "python",
   "nbconvert_exporter": "python",
   "pygments_lexer": "ipython2",
   "version": "2.7.13"
  }
 },
 "nbformat": 4,
 "nbformat_minor": 2
}
